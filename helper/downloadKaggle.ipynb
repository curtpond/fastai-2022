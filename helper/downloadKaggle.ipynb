{
 "cells": [
  {
   "cell_type": "code",
   "execution_count": 6,
   "id": "23cfa491",
   "metadata": {},
   "outputs": [],
   "source": [
    "import pandas as pd\n",
    "#kaggle needs to be installed via pip install kaggle"
   ]
  },
  {
   "cell_type": "markdown",
   "id": "9498d972",
   "metadata": {},
   "source": [
    "### Get API Key from Kaggle and store in variable"
   ]
  },
  {
   "cell_type": "code",
   "execution_count": 7,
   "id": "8e5be7e9",
   "metadata": {},
   "outputs": [],
   "source": [
    "creds = '{\"username\":\"curtpond\",\"key\":\"7a7ff1741688a4edf1a4f227093b4ba1\"}'"
   ]
  },
  {
   "cell_type": "markdown",
   "id": "1f7213d1",
   "metadata": {},
   "source": [
    "### Use path library to create the proper folder structure"
   ]
  },
  {
   "cell_type": "code",
   "execution_count": 8,
   "id": "9b37b236",
   "metadata": {},
   "outputs": [],
   "source": [
    "from pathlib import Path\n",
    "\n",
    "cred_path = Path('~/.kaggle/kaggle.json').expanduser()\n",
    "if not cred_path.exists():\n",
    "    cred_path.parent.mkdir(exist_ok=True)\n",
    "    cred_path.write_text(creds)\n",
    "    cred_path.chmod(0o600)"
   ]
  },
  {
   "cell_type": "markdown",
   "id": "0d528323",
   "metadata": {},
   "source": [
    "### Find a data set using command line"
   ]
  },
  {
   "cell_type": "markdown",
   "id": "df9a1f6b",
   "metadata": {},
   "source": [
    "Refer to this article for Kaggle cmd line help: https://towardsdatascience.com/how-to-search-and-download-data-using-kaggle-api-f815f7b98080"
   ]
  },
  {
   "cell_type": "code",
   "execution_count": 17,
   "id": "88239793",
   "metadata": {},
   "outputs": [
    {
     "name": "stdout",
     "output_type": "stream",
     "text": [
      "ref                                           title                                           size  lastUpdated          downloadCount  voteCount  usabilityRating  \r\n",
      "--------------------------------------------  ---------------------------------------------  -----  -------------------  -------------  ---------  ---------------  \r\n",
      "open-source-sports/baseball-databank          Baseball Databank                                7MB  2019-11-17 23:08:56           8692        112  0.7647059        \r\n",
      "mathchi/hitters-baseball-data                 Hitters Baseball Data                            9KB  2020-07-11 20:53:55           1051         59  1.0              \r\n",
      "seanlahman/the-history-of-baseball            The History of Baseball                         20MB  2019-11-14 05:40:57           9647        265  0.7647059        \r\n",
      "jcraggy/baseball                              Baseball                                         3MB  2021-07-28 10:27:28            353         15  1.0              \r\n",
      "sportradar/baseball                           Sportradar Baseball dataset                       0B  2019-08-30 20:41:18              0         56  0.64705884       \r\n",
      "ramjidoolla/ipl-data-set                      IPL _Data_Set                                    1MB  2020-09-14 10:57:42          18582        289  0.9705882        \r\n",
      "bluemumin/kbo-baseball-for-kaggle             kbo baseball for kaggle                        111KB  2020-01-19 07:58:26            643         19  1.0              \r\n",
      "bdilday/retrosheet-events-1970-2015           Retrosheet events 1970 - 2015                  170MB  2019-11-18 01:16:35            776         24  0.7058824        \r\n",
      "masseyratings/rankings                        College Football/Basketball/Baseball Rankings   83MB  2022-02-12 20:50:40           1257         27  0.47058824       \r\n",
      "freshrenzo/lahmanbaseballdatabase             Lahman Baseball Database                         8MB  2017-11-15 18:48:53            943         11  0.6764706        \r\n",
      "wduckett/moneyball-mlb-stats-19622012         Moneyball                                       19KB  2017-10-19 20:01:07           4072         63  0.8235294        \r\n",
      "ayessa/predict-baseball-players-position      Baseball Players Height or Weight Prediction    15KB  2022-04-20 12:18:48            198         18  0.8235294        \r\n",
      "danielmontilla/baseball-databank              Baseball Databank                                9MB  2021-02-09 02:16:26             79          3  0.6875           \r\n",
      "floser/hitters                                Hitters                                          9KB  2018-02-11 20:43:51           2697         15  0.64705884       \r\n",
      "cyaris/2016-mlb-season                        2016 MLB Season                                237KB  2018-04-21 18:26:56           2225         36  0.8235294        \r\n",
      "tosinbells/baseball                           Baseball                                        19KB  2019-08-05 09:58:04             58          2  0.23529412       \r\n",
      "maxhorowitz/nflplaybyplay2009to2016           Detailed NFL Play-by-Play Data 2009-2018       274MB  2018-12-22 05:39:34          26803        643  0.6764706        \r\n",
      "apollo2506/landuse-scene-classification       Land-Use Scene Classification                    2GB  2020-10-11 17:24:26            934         29  0.88235295       \r\n",
      "creepycrap/baseball-player-salary-prediction  Baseball Player Salary Prediction              148KB  2021-06-04 13:06:27            161         14  0.29411766       \r\n",
      "minnieliang/lahman-batting-data               Lahman Baseball Batting Data                     2MB  2020-08-12 16:08:00             44          4  0.7058824        \r\n"
     ]
    }
   ],
   "source": [
    "! kaggle datasets list -s 'baseball'"
   ]
  },
  {
   "cell_type": "markdown",
   "id": "4d95a625",
   "metadata": {},
   "source": [
    "### Get Titanic data set"
   ]
  },
  {
   "cell_type": "code",
   "execution_count": 9,
   "id": "77e878c8",
   "metadata": {},
   "outputs": [
    {
     "name": "stdout",
     "output_type": "stream",
     "text": [
      "titanic.zip: Skipping, found more recently modified local copy (use --force to force download)\n"
     ]
    }
   ],
   "source": [
    "import os\n",
    "iskaggle = os.environ.get('KAGGLE_KERNEL_RUN_TYPE', '')\n",
    "\n",
    "if iskaggle: path = Path('../input/titanic')\n",
    "else:\n",
    "    import zipfile,kaggle\n",
    "    path = Path('titanic')\n",
    "    kaggle.api.competition_download_cli(str(path))\n",
    "    zipfile.ZipFile(f'{path}.zip').extractall(path)"
   ]
  },
  {
   "cell_type": "markdown",
   "id": "65834374",
   "metadata": {},
   "source": [
    "### Create two data frames for Train and Test"
   ]
  },
  {
   "cell_type": "code",
   "execution_count": 10,
   "id": "fad4c307",
   "metadata": {},
   "outputs": [],
   "source": [
    "df = pd.read_csv(path/'train.csv')\n",
    "tst_df = pd.read_csv(path/'test.csv')\n",
    "modes = df.mode().iloc[0]"
   ]
  },
  {
   "cell_type": "code",
   "execution_count": 12,
   "id": "3b2e535f",
   "metadata": {
    "scrolled": true
   },
   "outputs": [
    {
     "data": {
      "text/html": [
       "<div>\n",
       "<style scoped>\n",
       "    .dataframe tbody tr th:only-of-type {\n",
       "        vertical-align: middle;\n",
       "    }\n",
       "\n",
       "    .dataframe tbody tr th {\n",
       "        vertical-align: top;\n",
       "    }\n",
       "\n",
       "    .dataframe thead th {\n",
       "        text-align: right;\n",
       "    }\n",
       "</style>\n",
       "<table border=\"1\" class=\"dataframe\">\n",
       "  <thead>\n",
       "    <tr style=\"text-align: right;\">\n",
       "      <th></th>\n",
       "      <th>PassengerId</th>\n",
       "      <th>Survived</th>\n",
       "      <th>Pclass</th>\n",
       "      <th>Name</th>\n",
       "      <th>Sex</th>\n",
       "      <th>Age</th>\n",
       "      <th>SibSp</th>\n",
       "      <th>Parch</th>\n",
       "      <th>Ticket</th>\n",
       "      <th>Fare</th>\n",
       "      <th>Cabin</th>\n",
       "      <th>Embarked</th>\n",
       "    </tr>\n",
       "  </thead>\n",
       "  <tbody>\n",
       "    <tr>\n",
       "      <th>0</th>\n",
       "      <td>1</td>\n",
       "      <td>0</td>\n",
       "      <td>3</td>\n",
       "      <td>Braund, Mr. Owen Harris</td>\n",
       "      <td>male</td>\n",
       "      <td>22.0</td>\n",
       "      <td>1</td>\n",
       "      <td>0</td>\n",
       "      <td>A/5 21171</td>\n",
       "      <td>7.2500</td>\n",
       "      <td>NaN</td>\n",
       "      <td>S</td>\n",
       "    </tr>\n",
       "    <tr>\n",
       "      <th>1</th>\n",
       "      <td>2</td>\n",
       "      <td>1</td>\n",
       "      <td>1</td>\n",
       "      <td>Cumings, Mrs. John Bradley (Florence Briggs Th...</td>\n",
       "      <td>female</td>\n",
       "      <td>38.0</td>\n",
       "      <td>1</td>\n",
       "      <td>0</td>\n",
       "      <td>PC 17599</td>\n",
       "      <td>71.2833</td>\n",
       "      <td>C85</td>\n",
       "      <td>C</td>\n",
       "    </tr>\n",
       "    <tr>\n",
       "      <th>2</th>\n",
       "      <td>3</td>\n",
       "      <td>1</td>\n",
       "      <td>3</td>\n",
       "      <td>Heikkinen, Miss. Laina</td>\n",
       "      <td>female</td>\n",
       "      <td>26.0</td>\n",
       "      <td>0</td>\n",
       "      <td>0</td>\n",
       "      <td>STON/O2. 3101282</td>\n",
       "      <td>7.9250</td>\n",
       "      <td>NaN</td>\n",
       "      <td>S</td>\n",
       "    </tr>\n",
       "    <tr>\n",
       "      <th>3</th>\n",
       "      <td>4</td>\n",
       "      <td>1</td>\n",
       "      <td>1</td>\n",
       "      <td>Futrelle, Mrs. Jacques Heath (Lily May Peel)</td>\n",
       "      <td>female</td>\n",
       "      <td>35.0</td>\n",
       "      <td>1</td>\n",
       "      <td>0</td>\n",
       "      <td>113803</td>\n",
       "      <td>53.1000</td>\n",
       "      <td>C123</td>\n",
       "      <td>S</td>\n",
       "    </tr>\n",
       "    <tr>\n",
       "      <th>4</th>\n",
       "      <td>5</td>\n",
       "      <td>0</td>\n",
       "      <td>3</td>\n",
       "      <td>Allen, Mr. William Henry</td>\n",
       "      <td>male</td>\n",
       "      <td>35.0</td>\n",
       "      <td>0</td>\n",
       "      <td>0</td>\n",
       "      <td>373450</td>\n",
       "      <td>8.0500</td>\n",
       "      <td>NaN</td>\n",
       "      <td>S</td>\n",
       "    </tr>\n",
       "  </tbody>\n",
       "</table>\n",
       "</div>"
      ],
      "text/plain": [
       "   PassengerId  Survived  Pclass  \\\n",
       "0            1         0       3   \n",
       "1            2         1       1   \n",
       "2            3         1       3   \n",
       "3            4         1       1   \n",
       "4            5         0       3   \n",
       "\n",
       "                                                Name     Sex   Age  SibSp  \\\n",
       "0                            Braund, Mr. Owen Harris    male  22.0      1   \n",
       "1  Cumings, Mrs. John Bradley (Florence Briggs Th...  female  38.0      1   \n",
       "2                             Heikkinen, Miss. Laina  female  26.0      0   \n",
       "3       Futrelle, Mrs. Jacques Heath (Lily May Peel)  female  35.0      1   \n",
       "4                           Allen, Mr. William Henry    male  35.0      0   \n",
       "\n",
       "   Parch            Ticket     Fare Cabin Embarked  \n",
       "0      0         A/5 21171   7.2500   NaN        S  \n",
       "1      0          PC 17599  71.2833   C85        C  \n",
       "2      0  STON/O2. 3101282   7.9250   NaN        S  \n",
       "3      0            113803  53.1000  C123        S  \n",
       "4      0            373450   8.0500   NaN        S  "
      ]
     },
     "execution_count": 12,
     "metadata": {},
     "output_type": "execute_result"
    }
   ],
   "source": [
    "df.head()"
   ]
  },
  {
   "cell_type": "code",
   "execution_count": 15,
   "id": "146e7548",
   "metadata": {},
   "outputs": [
    {
     "name": "stdout",
     "output_type": "stream",
     "text": [
      "ref                                                 title                                           size  lastUpdated          downloadCount  voteCount  usabilityRating  \r\n",
      "--------------------------------------------------  ---------------------------------------------  -----  -------------------  -------------  ---------  ---------------  \r\n",
      "heptapod/titanic                                    Titanic                                         11KB  2017-05-16 08:14:22          40331        770  0.7058824        \r\n",
      "azeembootwala/titanic                               Titanic                                         12KB  2017-06-05 12:14:37          13681        147  0.8235294        \r\n",
      "brendan45774/test-file                              Titanic dataset                                 11KB  2021-12-02 16:11:42          23064        281  1.0              \r\n",
      "rahulsah06/titanic                                  Titanic                                         34KB  2019-09-16 14:43:23           3857         47  0.6764706        \r\n",
      "prkukunoor/TitanicDataset                           Titanic                                        135KB  2017-01-03 22:01:13           4792         24  0.5882353        \r\n",
      "hesh97/titanicdataset-traincsv                      Titanic-Dataset (train.csv)                     22KB  2018-02-02 04:51:06          55862        380  0.4117647        \r\n",
      "fossouodonald/titaniccsv                            Titanic csv                                      1KB  2016-11-07 09:44:58           9105         55  0.5882353        \r\n",
      "broaniki/titanic                                    titanic                                        717KB  2018-01-30 04:08:45           8056        128  0.1764706        \r\n",
      "pavlofesenko/titanic-extended                       Titanic extended dataset (Kaggle + Wikipedia)  134KB  2019-03-06 09:53:24           9086        131  0.9411765        \r\n",
      "jamesleslie/titanic-cleaned-data                    Titanic: cleaned data                           36KB  2018-11-21 11:50:18           5005         54  0.7647059        \r\n",
      "kittisaks/testtitanic                               test titanic                                    22KB  2017-03-13 15:13:12           1676         32  0.64705884       \r\n",
      "yasserh/titanic-dataset                             Titanic Dataset                                 22KB  2021-12-24 14:53:06           1418         27  1.0              \r\n",
      "abhinavralhan/titanic                               titanic                                         22KB  2017-07-30 11:07:55            641         11  0.8235294        \r\n",
      "cities/titanic123                                   Titanic Dataset Analysis                        22KB  2017-02-07 23:15:54           1638         30  0.5294118        \r\n",
      "brendan45774/gender-submisson                       Titanic: all ones csv file                      942B  2021-02-12 19:18:32            549         37  0.9411765        \r\n",
      "ibrahimelsayed182/titanic-dataset                   Titanic dataset                                  6KB  2022-01-27 07:41:54            383          9  1.0              \r\n",
      "harunshimanto/titanic-solution-for-beginners-guide  Titanic Solution for Beginner's Guide           34KB  2018-03-12 17:47:06           1460         21  0.7058824        \r\n",
      "sureshbhusare/titanic-dataset-from-kaggle           Titanic DataSet from Kaggle                     33KB  2017-10-12 04:49:39           2751         27  0.4117647        \r\n",
      "vinicius150987/titanic3                             The Complete Titanic Dataset                   277KB  2020-01-04 18:24:11           1672         24  0.64705884       \r\n",
      "shuofxz/titanic-machine-learning-from-disaster      Titanic: Machine Learning from Disaster         33KB  2017-10-15 10:05:34           4021         57  0.29411766       \r\n"
     ]
    }
   ],
   "source": [
    "! kaggle datasets list -s 'titanic'"
   ]
  },
  {
   "cell_type": "code",
   "execution_count": null,
   "id": "4a4a6aeb",
   "metadata": {},
   "outputs": [],
   "source": []
  }
 ],
 "metadata": {
  "kernelspec": {
   "display_name": "Python 3 (ipykernel)",
   "language": "python",
   "name": "python3"
  },
  "language_info": {
   "codemirror_mode": {
    "name": "ipython",
    "version": 3
   },
   "file_extension": ".py",
   "mimetype": "text/x-python",
   "name": "python",
   "nbconvert_exporter": "python",
   "pygments_lexer": "ipython3",
   "version": "3.10.4"
  }
 },
 "nbformat": 4,
 "nbformat_minor": 5
}
