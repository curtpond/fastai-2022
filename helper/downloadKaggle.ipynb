{
 "cells": [
  {
   "cell_type": "code",
   "execution_count": 1,
   "id": "23cfa491",
   "metadata": {},
   "outputs": [],
   "source": [
    "import pandas as pd\n",
    "#kaggle needs to be installed via pip install kaggle\n",
    "#!pip install kaggle"
   ]
  },
  {
   "cell_type": "markdown",
   "id": "9498d972",
   "metadata": {},
   "source": [
    "### Get API Key from Kaggle and store in variable"
   ]
  },
  {
   "cell_type": "code",
   "execution_count": 2,
   "id": "8e5be7e9",
   "metadata": {},
   "outputs": [],
   "source": [
    "creds = '{\"username\":\"<user_name>\",\"key\":\"<user_mykey>\"}'"
   ]
  },
  {
   "cell_type": "markdown",
   "id": "1f7213d1",
   "metadata": {},
   "source": [
    "### Use path library to create the proper folder structure"
   ]
  },
  {
   "cell_type": "code",
   "execution_count": 3,
   "id": "9b37b236",
   "metadata": {},
   "outputs": [],
   "source": [
    "from pathlib import Path\n",
    "\n",
    "cred_path = Path('~/.kaggle/kaggle.json').expanduser()\n",
    "if not cred_path.exists():\n",
    "    cred_path.parent.mkdir(exist_ok=True)\n",
    "    cred_path.write_text(creds)\n",
    "    cred_path.chmod(0o600)"
   ]
  },
  {
   "cell_type": "markdown",
   "id": "0d528323",
   "metadata": {},
   "source": [
    "### Find a data set using command line"
   ]
  },
  {
   "cell_type": "markdown",
   "id": "df9a1f6b",
   "metadata": {},
   "source": [
    "Refer to this article for Kaggle cmd line help: https://towardsdatascience.com/how-to-search-and-download-data-using-kaggle-api-f815f7b98080"
   ]
  },
  {
   "cell_type": "code",
   "execution_count": 4,
   "id": "88239793",
   "metadata": {},
   "outputs": [
    {
     "name": "stdout",
     "output_type": "stream",
     "text": [
      "ref                                                         title                                                size  lastUpdated          downloadCount  voteCount  usabilityRating  \r\n",
      "----------------------------------------------------------  --------------------------------------------------  -----  -------------------  -------------  ---------  ---------------  \r\n",
      "netflix-inc/netflix-prize-data                              Netflix Prize data                                  683MB  2019-11-13 18:39:37          65025       1137  0.7647059        \r\n",
      "shivamb/netflix-shows                                       Netflix Movies and TV Shows                           1MB  2021-09-27 04:44:36         253222       6729  1.0              \r\n",
      "victorsoeiro/netflix-tv-shows-and-movies                    Netflix TV Shows and Movies                           2MB  2022-07-26 19:50:06          18688        535  1.0              \r\n",
      "chasewillden/netflix-shows                                  1000 Netflix Shows                                   11KB  2017-06-11 03:30:16           9621        139  0.8235294        \r\n",
      "luiscorter/netflix-original-films-imdb-scores               Netflix Original Films & IMDB Scores                 12KB  2021-06-03 23:24:57          10428        164  1.0              \r\n",
      "ruchi798/movies-on-netflix-prime-video-hulu-and-disney      Movies on Netflix, Prime Video, Hulu and Disney+    166KB  2021-12-16 16:30:28          23423        651  1.0              \r\n",
      "prasertk/netflix-subscription-price-in-different-countries  Netflix subscription fee in different countries       3KB  2022-01-15 07:06:09          10472        255  1.0              \r\n",
      "ruchi798/tv-shows-on-netflix-prime-video-hulu-and-disney    TV shows on Netflix, Prime Video, Hulu and Disney+  101KB  2021-08-02 06:40:11          12494        344  1.0              \r\n",
      "ritesh2000/trending-tv-shows-on-netflix                     Trending TV Shows on Netflix                         914B  2020-08-11 09:31:56           2246         88  1.0              \r\n",
      "prasertk/netflix-daily-top-10-in-us                         Netflix daily top 10                                 70KB  2022-03-12 13:22:19           2374         45  1.0              \r\n",
      "akpmpr/updated-netflix-stock-price-all-time                 Netflix Stock Price (All Time)                      122KB  2021-10-12 09:00:13           1723         43  1.0              \r\n",
      "jainilcoder/netflix-stock-price-prediction                  Netflix Stock Price Prediction                       21KB  2022-02-05 05:06:10           2869         54  1.0              \r\n",
      "deepcontractor/squid-game-netflix-twitter-data              Squid Game Netflix Twitter Data                      10MB  2022-07-21 11:35:43           1679         87  1.0              \r\n",
      "mathurinache/reddit-netflix                                 Reddit Netflix                                      125KB  2021-11-16 22:12:00            648         32  1.0              \r\n",
      "pariaagharabi/netflix2020                                   Netflix subscribers and revenue by country            2KB  2020-09-12 19:55:53           5993         56  1.0              \r\n",
      "ranugadisansagamage/netflix-stocks                          Netflix Stocks                                       96KB  2022-05-22 14:11:12            824         42  0.9411765        \r\n",
      "satpreetmakhija/netflix-movies-and-tv-shows-2021            Netflix Movies and TV Shows 2021                      1MB  2021-07-18 10:37:37           2496         51  1.0              \r\n",
      "yogithasatyasri/netflix-shows-exploratory-analysis          Netflix Shows - Exploratory Analysis                971KB  2020-02-07 14:05:23           1200         19  0.7058824        \r\n",
      "rishitjavia/netflix-movie-rating-dataset                    Netflix Movie Rating Dataset                         75MB  2021-06-19 08:12:00           1102         16  0.9411765        \r\n",
      "deepcontractor/dark-netflix-character-relationship          Dark Netflix Character Relationship                   1KB  2021-10-21 05:07:07            277         46  1.0              \r\n"
     ]
    }
   ],
   "source": [
    "! kaggle datasets list -s 'netflix'"
   ]
  },
  {
   "cell_type": "markdown",
   "id": "4d95a625",
   "metadata": {},
   "source": [
    "### Get Netflix data set"
   ]
  },
  {
   "cell_type": "code",
   "execution_count": 5,
   "id": "77e878c8",
   "metadata": {},
   "outputs": [
    {
     "name": "stdout",
     "output_type": "stream",
     "text": [
      "Downloading netflix-tv-shows-and-movies.zip to netflix\n",
      " 44%|████████████████▊                     | 1.00M/2.25M [00:00<00:00, 10.0MB/s]\n",
      "100%|██████████████████████████████████████| 2.25M/2.25M [00:00<00:00, 15.7MB/s]\n"
     ]
    }
   ],
   "source": [
    "! kaggle datasets download -d 'victorsoeiro/netflix-tv-shows-and-movies' --unzip -p 'netflix'"
   ]
  },
  {
   "cell_type": "code",
   "execution_count": 8,
   "id": "4a4a6aeb",
   "metadata": {},
   "outputs": [
    {
     "name": "stdout",
     "output_type": "stream",
     "text": [
      "            id              title   type  \\\n",
      "2089  tm349138          One of Us  MOVIE   \n",
      "4909  tm841797       The Ice Road  MOVIE   \n",
      "2961  tm478701  Lara and the Beat  MOVIE   \n",
      "2070  tm326723     The Polka King  MOVIE   \n",
      "3054  ts216679         Bridgerton   SHOW   \n",
      "\n",
      "                                            description  release_year  \\\n",
      "2089  Penetrating the insular world of New York's Ha...          2017   \n",
      "4909  After a remote diamond mine collapses in far n...          2021   \n",
      "2961  Lara and the Beat is a coming of age movie abo...          2018   \n",
      "2070  Local Pennsylvania polka legend Jan Lewan deve...          2017   \n",
      "3054  Wealth, lust, and betrayal set in the backdrop...          2020   \n",
      "\n",
      "     age_certification  runtime                           genres  \\\n",
      "2089               NaN       95                ['documentation']   \n",
      "4909             PG-13      109  ['action', 'thriller', 'drama']   \n",
      "2961               NaN      137    ['drama', 'music', 'romance']   \n",
      "2070               NaN       95     ['comedy', 'music', 'drama']   \n",
      "3054             TV-MA       62  ['drama', 'history', 'romance']   \n",
      "\n",
      "     production_countries  seasons    imdb_id  imdb_score  imdb_votes  \\\n",
      "2089               ['US']      NaN  tt7214842         7.0      6574.0   \n",
      "4909               ['US']      NaN  tt3758814         5.6     38927.0   \n",
      "2961               ['NG']      NaN  tt7819668         5.8       149.0   \n",
      "2070               ['US']      NaN  tt5539052         5.9     10568.0   \n",
      "3054               ['US']      4.0  tt8740790         7.3    129085.0   \n",
      "\n",
      "      tmdb_popularity  tmdb_score  \n",
      "2089            7.349       6.900  \n",
      "4909           35.718       7.009  \n",
      "2961            1.796         NaN  \n",
      "2070            8.066       5.515  \n",
      "3054          106.118       8.200  \n"
     ]
    },
    {
     "data": {
      "text/plain": [
       "(5850, 15)"
      ]
     },
     "execution_count": 8,
     "metadata": {},
     "output_type": "execute_result"
    }
   ],
   "source": [
    "df = pd.read_csv('netflix/titles.csv')\n",
    "df.head()\n",
    "df.shape"
   ]
  },
  {
   "cell_type": "code",
   "execution_count": null,
   "id": "1360868e",
   "metadata": {},
   "outputs": [],
   "source": []
  }
 ],
 "metadata": {
  "kernelspec": {
   "display_name": "Python 3.10.4 ('fastai')",
   "language": "python",
   "name": "python3"
  },
  "language_info": {
   "codemirror_mode": {
    "name": "ipython",
    "version": 3
   },
   "file_extension": ".py",
   "mimetype": "text/x-python",
   "name": "python",
   "nbconvert_exporter": "python",
   "pygments_lexer": "ipython3",
   "version": "3.10.4"
  },
  "vscode": {
   "interpreter": {
    "hash": "4b6371f9b180b180e3c0fc2dc539c52593b72b3e75aed3593bd0a5845eb81bd2"
   }
  }
 },
 "nbformat": 4,
 "nbformat_minor": 5
}
