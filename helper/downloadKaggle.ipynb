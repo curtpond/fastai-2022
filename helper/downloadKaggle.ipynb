{
 "cells": [
  {
   "cell_type": "code",
   "execution_count": 6,
   "id": "23cfa491",
   "metadata": {},
   "outputs": [],
   "source": [
    "import pandas as pd\n",
    "#kaggle needs to be installed via pip install kaggle\n",
    "#!pip install kaggle"
   ]
  },
  {
   "cell_type": "markdown",
   "id": "9498d972",
   "metadata": {},
   "source": [
    "### Get API Key from Kaggle and store in variable"
   ]
  },
  {
   "cell_type": "code",
   "execution_count": 7,
   "id": "8e5be7e9",
   "metadata": {},
   "outputs": [],
   "source": [
    "creds = '{\"username\":\"curtpond\",\"key\":\"<input key\"}'"
   ]
  },
  {
   "cell_type": "markdown",
   "id": "1f7213d1",
   "metadata": {},
   "source": [
    "### Use path library to create the proper folder structure"
   ]
  },
  {
   "cell_type": "code",
   "execution_count": 8,
   "id": "9b37b236",
   "metadata": {},
   "outputs": [],
   "source": [
    "from pathlib import Path\n",
    "\n",
    "cred_path = Path('~/.kaggle/kaggle.json').expanduser()\n",
    "if not cred_path.exists():\n",
    "    cred_path.parent.mkdir(exist_ok=True)\n",
    "    cred_path.write_text(creds)\n",
    "    cred_path.chmod(0o600)"
   ]
  },
  {
   "cell_type": "markdown",
   "id": "0d528323",
   "metadata": {},
   "source": [
    "### Find a data set using command line"
   ]
  },
  {
   "cell_type": "markdown",
   "id": "df9a1f6b",
   "metadata": {},
   "source": [
    "Refer to this article for Kaggle cmd line help: https://towardsdatascience.com/how-to-search-and-download-data-using-kaggle-api-f815f7b98080"
   ]
  },
  {
   "cell_type": "code",
   "execution_count": 17,
   "id": "88239793",
   "metadata": {},
   "outputs": [
    {
     "name": "stdout",
     "output_type": "stream",
     "text": [
      "ref                                           title                                           size  lastUpdated          downloadCount  voteCount  usabilityRating  \r\n",
      "--------------------------------------------  ---------------------------------------------  -----  -------------------  -------------  ---------  ---------------  \r\n",
      "open-source-sports/baseball-databank          Baseball Databank                                7MB  2019-11-17 23:08:56           8692        112  0.7647059        \r\n",
      "mathchi/hitters-baseball-data                 Hitters Baseball Data                            9KB  2020-07-11 20:53:55           1051         59  1.0              \r\n",
      "seanlahman/the-history-of-baseball            The History of Baseball                         20MB  2019-11-14 05:40:57           9647        265  0.7647059        \r\n",
      "jcraggy/baseball                              Baseball                                         3MB  2021-07-28 10:27:28            353         15  1.0              \r\n",
      "sportradar/baseball                           Sportradar Baseball dataset                       0B  2019-08-30 20:41:18              0         56  0.64705884       \r\n",
      "ramjidoolla/ipl-data-set                      IPL _Data_Set                                    1MB  2020-09-14 10:57:42          18582        289  0.9705882        \r\n",
      "bluemumin/kbo-baseball-for-kaggle             kbo baseball for kaggle                        111KB  2020-01-19 07:58:26            643         19  1.0              \r\n",
      "bdilday/retrosheet-events-1970-2015           Retrosheet events 1970 - 2015                  170MB  2019-11-18 01:16:35            776         24  0.7058824        \r\n",
      "masseyratings/rankings                        College Football/Basketball/Baseball Rankings   83MB  2022-02-12 20:50:40           1257         27  0.47058824       \r\n",
      "freshrenzo/lahmanbaseballdatabase             Lahman Baseball Database                         8MB  2017-11-15 18:48:53            943         11  0.6764706        \r\n",
      "wduckett/moneyball-mlb-stats-19622012         Moneyball                                       19KB  2017-10-19 20:01:07           4072         63  0.8235294        \r\n",
      "ayessa/predict-baseball-players-position      Baseball Players Height or Weight Prediction    15KB  2022-04-20 12:18:48            198         18  0.8235294        \r\n",
      "danielmontilla/baseball-databank              Baseball Databank                                9MB  2021-02-09 02:16:26             79          3  0.6875           \r\n",
      "floser/hitters                                Hitters                                          9KB  2018-02-11 20:43:51           2697         15  0.64705884       \r\n",
      "cyaris/2016-mlb-season                        2016 MLB Season                                237KB  2018-04-21 18:26:56           2225         36  0.8235294        \r\n",
      "tosinbells/baseball                           Baseball                                        19KB  2019-08-05 09:58:04             58          2  0.23529412       \r\n",
      "maxhorowitz/nflplaybyplay2009to2016           Detailed NFL Play-by-Play Data 2009-2018       274MB  2018-12-22 05:39:34          26803        643  0.6764706        \r\n",
      "apollo2506/landuse-scene-classification       Land-Use Scene Classification                    2GB  2020-10-11 17:24:26            934         29  0.88235295       \r\n",
      "creepycrap/baseball-player-salary-prediction  Baseball Player Salary Prediction              148KB  2021-06-04 13:06:27            161         14  0.29411766       \r\n",
      "minnieliang/lahman-batting-data               Lahman Baseball Batting Data                     2MB  2020-08-12 16:08:00             44          4  0.7058824        \r\n"
     ]
    }
   ],
   "source": [
    "! kaggle datasets list -s 'baseball'"
   ]
  },
  {
   "cell_type": "code",
   "execution_count": null,
   "id": "4a4a6aeb",
   "metadata": {},
   "outputs": [],
   "source": []
  }
 ],
 "metadata": {
  "kernelspec": {
   "display_name": "Python 3.10.4 ('fastai')",
   "language": "python",
   "name": "python3"
  },
  "language_info": {
   "codemirror_mode": {
    "name": "ipython",
    "version": 3
   },
   "file_extension": ".py",
   "mimetype": "text/x-python",
   "name": "python",
   "nbconvert_exporter": "python",
   "pygments_lexer": "ipython3",
   "version": "3.10.4"
  },
  "vscode": {
   "interpreter": {
    "hash": "4b6371f9b180b180e3c0fc2dc539c52593b72b3e75aed3593bd0a5845eb81bd2"
   }
  }
 },
 "nbformat": 4,
 "nbformat_minor": 5
}
